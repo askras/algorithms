{
 "cells": [
  {
   "cell_type": "markdown",
   "id": "0f036e4b",
   "metadata": {},
   "source": [
    "(algorithm-analysis-index)=\n",
    "# Введение в анализ алгоритмов"
   ]
  }
 ],
 "metadata": {
  "jupytext": {
   "text_representation": {
    "extension": ".md",
    "format_name": "myst"
   }
  },
  "kernelspec": {
   "display_name": "Python 3",
   "language": "python",
   "name": "python3"
  },
  "source_map": [
   10
  ]
 },
 "nbformat": 4,
 "nbformat_minor": 5
}