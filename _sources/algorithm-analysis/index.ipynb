{
 "cells": [
  {
   "cell_type": "markdown",
   "id": "82fd2b74",
   "metadata": {},
   "source": [
    "(info_index)=\n",
    "# Введение в анализ алгоритмов"
   ]
  }
 ],
 "metadata": {
  "jupytext": {
   "text_representation": {
    "extension": ".md",
    "format_name": "myst"
   }
  },
  "kernelspec": {
   "display_name": "Python 3",
   "language": "python",
   "name": "python3"
  },
  "source_map": [
   10
  ]
 },
 "nbformat": 4,
 "nbformat_minor": 5
}