{
 "cells": [
  {
   "cell_type": "markdown",
   "id": "3ae87bca",
   "metadata": {},
   "source": [
    "(asymptotic-notations.)=\n",
    "# Асимптотическая нотация"
   ]
  }
 ],
 "metadata": {
  "jupytext": {
   "text_representation": {
    "extension": ".md",
    "format_name": "myst"
   }
  },
  "kernelspec": {
   "display_name": "Python 3",
   "language": "python",
   "name": "python3"
  },
  "source_map": [
   10
  ]
 },
 "nbformat": 4,
 "nbformat_minor": 5
}